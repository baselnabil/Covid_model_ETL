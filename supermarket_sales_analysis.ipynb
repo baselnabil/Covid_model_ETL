{
 "cells": [
  {
   "cell_type": "code",
   "execution_count": 1,
   "id": "b94bdb23",
   "metadata": {
    "ExecuteTime": {
     "end_time": "2024-09-16T13:26:59.922422Z",
     "start_time": "2024-09-16T13:26:31.334339Z"
    }
   },
   "outputs": [],
   "source": [
    "import pandas as pd\n",
    "import numpy as np\n",
    "import seaborn as sns\n",
    "import matplotlib.pyplot as plt\n",
    "from datetime import datetime"
   ]
  },
  {
   "cell_type": "markdown",
   "id": "747dd126",
   "metadata": {},
   "source": [
    " ## Load and Explore the Data\n"
   ]
  },
  {
   "cell_type": "code",
   "execution_count": 2,
   "id": "f02c1307",
   "metadata": {
    "ExecuteTime": {
     "end_time": "2024-09-16T13:27:00.237541Z",
     "start_time": "2024-09-16T13:26:59.954880Z"
    }
   },
   "outputs": [
    {
     "data": {
      "text/html": [
       "<div>\n",
       "<style scoped>\n",
       "    .dataframe tbody tr th:only-of-type {\n",
       "        vertical-align: middle;\n",
       "    }\n",
       "\n",
       "    .dataframe tbody tr th {\n",
       "        vertical-align: top;\n",
       "    }\n",
       "\n",
       "    .dataframe thead th {\n",
       "        text-align: right;\n",
       "    }\n",
       "</style>\n",
       "<table border=\"1\" class=\"dataframe\">\n",
       "  <thead>\n",
       "    <tr style=\"text-align: right;\">\n",
       "      <th></th>\n",
       "      <th>Invoice ID</th>\n",
       "      <th>Branch</th>\n",
       "      <th>City</th>\n",
       "      <th>Customer type</th>\n",
       "      <th>Gender</th>\n",
       "      <th>Product line</th>\n",
       "      <th>Unit price</th>\n",
       "      <th>Quantity</th>\n",
       "      <th>Tax 5%</th>\n",
       "      <th>Total</th>\n",
       "      <th>Date</th>\n",
       "      <th>Time</th>\n",
       "      <th>Payment</th>\n",
       "      <th>cogs</th>\n",
       "      <th>gross margin percentage</th>\n",
       "      <th>gross income</th>\n",
       "      <th>Rating</th>\n",
       "    </tr>\n",
       "  </thead>\n",
       "  <tbody>\n",
       "    <tr>\n",
       "      <th>0</th>\n",
       "      <td>750-67-8428</td>\n",
       "      <td>A</td>\n",
       "      <td>Yangon</td>\n",
       "      <td>Member</td>\n",
       "      <td>Female</td>\n",
       "      <td>Health and beauty</td>\n",
       "      <td>74.69</td>\n",
       "      <td>7</td>\n",
       "      <td>26.1415</td>\n",
       "      <td>548.9715</td>\n",
       "      <td>1/5/2019</td>\n",
       "      <td>13:08</td>\n",
       "      <td>Ewallet</td>\n",
       "      <td>522.83</td>\n",
       "      <td>4.761905</td>\n",
       "      <td>26.1415</td>\n",
       "      <td>9.1</td>\n",
       "    </tr>\n",
       "    <tr>\n",
       "      <th>1</th>\n",
       "      <td>226-31-3081</td>\n",
       "      <td>C</td>\n",
       "      <td>Naypyitaw</td>\n",
       "      <td>Normal</td>\n",
       "      <td>Female</td>\n",
       "      <td>Electronic accessories</td>\n",
       "      <td>15.28</td>\n",
       "      <td>5</td>\n",
       "      <td>3.8200</td>\n",
       "      <td>80.2200</td>\n",
       "      <td>3/8/2019</td>\n",
       "      <td>10:29</td>\n",
       "      <td>Cash</td>\n",
       "      <td>76.40</td>\n",
       "      <td>4.761905</td>\n",
       "      <td>3.8200</td>\n",
       "      <td>9.6</td>\n",
       "    </tr>\n",
       "    <tr>\n",
       "      <th>2</th>\n",
       "      <td>631-41-3108</td>\n",
       "      <td>A</td>\n",
       "      <td>Yangon</td>\n",
       "      <td>Normal</td>\n",
       "      <td>Male</td>\n",
       "      <td>Home and lifestyle</td>\n",
       "      <td>46.33</td>\n",
       "      <td>7</td>\n",
       "      <td>16.2155</td>\n",
       "      <td>340.5255</td>\n",
       "      <td>3/3/2019</td>\n",
       "      <td>13:23</td>\n",
       "      <td>Credit card</td>\n",
       "      <td>324.31</td>\n",
       "      <td>4.761905</td>\n",
       "      <td>16.2155</td>\n",
       "      <td>7.4</td>\n",
       "    </tr>\n",
       "    <tr>\n",
       "      <th>3</th>\n",
       "      <td>123-19-1176</td>\n",
       "      <td>A</td>\n",
       "      <td>Yangon</td>\n",
       "      <td>Member</td>\n",
       "      <td>Male</td>\n",
       "      <td>Health and beauty</td>\n",
       "      <td>58.22</td>\n",
       "      <td>8</td>\n",
       "      <td>23.2880</td>\n",
       "      <td>489.0480</td>\n",
       "      <td>1/27/2019</td>\n",
       "      <td>20:33</td>\n",
       "      <td>Ewallet</td>\n",
       "      <td>465.76</td>\n",
       "      <td>4.761905</td>\n",
       "      <td>23.2880</td>\n",
       "      <td>8.4</td>\n",
       "    </tr>\n",
       "    <tr>\n",
       "      <th>4</th>\n",
       "      <td>373-73-7910</td>\n",
       "      <td>A</td>\n",
       "      <td>Yangon</td>\n",
       "      <td>Normal</td>\n",
       "      <td>Male</td>\n",
       "      <td>Sports and travel</td>\n",
       "      <td>86.31</td>\n",
       "      <td>7</td>\n",
       "      <td>30.2085</td>\n",
       "      <td>634.3785</td>\n",
       "      <td>2/8/2019</td>\n",
       "      <td>10:37</td>\n",
       "      <td>Ewallet</td>\n",
       "      <td>604.17</td>\n",
       "      <td>4.761905</td>\n",
       "      <td>30.2085</td>\n",
       "      <td>5.3</td>\n",
       "    </tr>\n",
       "  </tbody>\n",
       "</table>\n",
       "</div>"
      ],
      "text/plain": [
       "    Invoice ID Branch       City Customer type  Gender  \\\n",
       "0  750-67-8428      A     Yangon        Member  Female   \n",
       "1  226-31-3081      C  Naypyitaw        Normal  Female   \n",
       "2  631-41-3108      A     Yangon        Normal    Male   \n",
       "3  123-19-1176      A     Yangon        Member    Male   \n",
       "4  373-73-7910      A     Yangon        Normal    Male   \n",
       "\n",
       "             Product line  Unit price  Quantity   Tax 5%     Total       Date  \\\n",
       "0       Health and beauty       74.69         7  26.1415  548.9715   1/5/2019   \n",
       "1  Electronic accessories       15.28         5   3.8200   80.2200   3/8/2019   \n",
       "2      Home and lifestyle       46.33         7  16.2155  340.5255   3/3/2019   \n",
       "3       Health and beauty       58.22         8  23.2880  489.0480  1/27/2019   \n",
       "4       Sports and travel       86.31         7  30.2085  634.3785   2/8/2019   \n",
       "\n",
       "    Time      Payment    cogs  gross margin percentage  gross income  Rating  \n",
       "0  13:08      Ewallet  522.83                 4.761905       26.1415     9.1  \n",
       "1  10:29         Cash   76.40                 4.761905        3.8200     9.6  \n",
       "2  13:23  Credit card  324.31                 4.761905       16.2155     7.4  \n",
       "3  20:33      Ewallet  465.76                 4.761905       23.2880     8.4  \n",
       "4  10:37      Ewallet  604.17                 4.761905       30.2085     5.3  "
      ]
     },
     "execution_count": 2,
     "metadata": {},
     "output_type": "execute_result"
    }
   ],
   "source": [
    "# Load data\n",
    "data= pd.read_csv('supermarket_sales - Sheet1.csv')\n",
    "# Display the first five rows of the dataset\n",
    "data.head()"
   ]
  },
  {
   "cell_type": "code",
   "execution_count": 3,
   "id": "0ef8481d",
   "metadata": {
    "ExecuteTime": {
     "end_time": "2024-09-16T13:27:00.533308Z",
     "start_time": "2024-09-16T13:27:00.270431Z"
    }
   },
   "outputs": [
    {
     "data": {
      "text/html": [
       "<div>\n",
       "<style scoped>\n",
       "    .dataframe tbody tr th:only-of-type {\n",
       "        vertical-align: middle;\n",
       "    }\n",
       "\n",
       "    .dataframe tbody tr th {\n",
       "        vertical-align: top;\n",
       "    }\n",
       "\n",
       "    .dataframe thead th {\n",
       "        text-align: right;\n",
       "    }\n",
       "</style>\n",
       "<table border=\"1\" class=\"dataframe\">\n",
       "  <thead>\n",
       "    <tr style=\"text-align: right;\">\n",
       "      <th></th>\n",
       "      <th>Unit price</th>\n",
       "      <th>Quantity</th>\n",
       "      <th>Tax 5%</th>\n",
       "      <th>Total</th>\n",
       "      <th>cogs</th>\n",
       "      <th>gross margin percentage</th>\n",
       "      <th>gross income</th>\n",
       "      <th>Rating</th>\n",
       "    </tr>\n",
       "  </thead>\n",
       "  <tbody>\n",
       "    <tr>\n",
       "      <th>count</th>\n",
       "      <td>1000.000000</td>\n",
       "      <td>1000.000000</td>\n",
       "      <td>1000.000000</td>\n",
       "      <td>1000.000000</td>\n",
       "      <td>1000.00000</td>\n",
       "      <td>1.000000e+03</td>\n",
       "      <td>1000.000000</td>\n",
       "      <td>1000.00000</td>\n",
       "    </tr>\n",
       "    <tr>\n",
       "      <th>mean</th>\n",
       "      <td>55.672130</td>\n",
       "      <td>5.510000</td>\n",
       "      <td>15.379369</td>\n",
       "      <td>322.966749</td>\n",
       "      <td>307.58738</td>\n",
       "      <td>4.761905e+00</td>\n",
       "      <td>15.379369</td>\n",
       "      <td>6.97270</td>\n",
       "    </tr>\n",
       "    <tr>\n",
       "      <th>std</th>\n",
       "      <td>26.494628</td>\n",
       "      <td>2.923431</td>\n",
       "      <td>11.708825</td>\n",
       "      <td>245.885335</td>\n",
       "      <td>234.17651</td>\n",
       "      <td>6.131498e-14</td>\n",
       "      <td>11.708825</td>\n",
       "      <td>1.71858</td>\n",
       "    </tr>\n",
       "    <tr>\n",
       "      <th>min</th>\n",
       "      <td>10.080000</td>\n",
       "      <td>1.000000</td>\n",
       "      <td>0.508500</td>\n",
       "      <td>10.678500</td>\n",
       "      <td>10.17000</td>\n",
       "      <td>4.761905e+00</td>\n",
       "      <td>0.508500</td>\n",
       "      <td>4.00000</td>\n",
       "    </tr>\n",
       "    <tr>\n",
       "      <th>25%</th>\n",
       "      <td>32.875000</td>\n",
       "      <td>3.000000</td>\n",
       "      <td>5.924875</td>\n",
       "      <td>124.422375</td>\n",
       "      <td>118.49750</td>\n",
       "      <td>4.761905e+00</td>\n",
       "      <td>5.924875</td>\n",
       "      <td>5.50000</td>\n",
       "    </tr>\n",
       "    <tr>\n",
       "      <th>50%</th>\n",
       "      <td>55.230000</td>\n",
       "      <td>5.000000</td>\n",
       "      <td>12.088000</td>\n",
       "      <td>253.848000</td>\n",
       "      <td>241.76000</td>\n",
       "      <td>4.761905e+00</td>\n",
       "      <td>12.088000</td>\n",
       "      <td>7.00000</td>\n",
       "    </tr>\n",
       "    <tr>\n",
       "      <th>75%</th>\n",
       "      <td>77.935000</td>\n",
       "      <td>8.000000</td>\n",
       "      <td>22.445250</td>\n",
       "      <td>471.350250</td>\n",
       "      <td>448.90500</td>\n",
       "      <td>4.761905e+00</td>\n",
       "      <td>22.445250</td>\n",
       "      <td>8.50000</td>\n",
       "    </tr>\n",
       "    <tr>\n",
       "      <th>max</th>\n",
       "      <td>99.960000</td>\n",
       "      <td>10.000000</td>\n",
       "      <td>49.650000</td>\n",
       "      <td>1042.650000</td>\n",
       "      <td>993.00000</td>\n",
       "      <td>4.761905e+00</td>\n",
       "      <td>49.650000</td>\n",
       "      <td>10.00000</td>\n",
       "    </tr>\n",
       "  </tbody>\n",
       "</table>\n",
       "</div>"
      ],
      "text/plain": [
       "        Unit price     Quantity       Tax 5%        Total        cogs  \\\n",
       "count  1000.000000  1000.000000  1000.000000  1000.000000  1000.00000   \n",
       "mean     55.672130     5.510000    15.379369   322.966749   307.58738   \n",
       "std      26.494628     2.923431    11.708825   245.885335   234.17651   \n",
       "min      10.080000     1.000000     0.508500    10.678500    10.17000   \n",
       "25%      32.875000     3.000000     5.924875   124.422375   118.49750   \n",
       "50%      55.230000     5.000000    12.088000   253.848000   241.76000   \n",
       "75%      77.935000     8.000000    22.445250   471.350250   448.90500   \n",
       "max      99.960000    10.000000    49.650000  1042.650000   993.00000   \n",
       "\n",
       "       gross margin percentage  gross income      Rating  \n",
       "count             1.000000e+03   1000.000000  1000.00000  \n",
       "mean              4.761905e+00     15.379369     6.97270  \n",
       "std               6.131498e-14     11.708825     1.71858  \n",
       "min               4.761905e+00      0.508500     4.00000  \n",
       "25%               4.761905e+00      5.924875     5.50000  \n",
       "50%               4.761905e+00     12.088000     7.00000  \n",
       "75%               4.761905e+00     22.445250     8.50000  \n",
       "max               4.761905e+00     49.650000    10.00000  "
      ]
     },
     "execution_count": 3,
     "metadata": {},
     "output_type": "execute_result"
    }
   ],
   "source": [
    "# Summary statistics of the dataset\n",
    "data.describe()"
   ]
  },
  {
   "cell_type": "code",
   "execution_count": 4,
   "id": "7cc5fc00",
   "metadata": {
    "ExecuteTime": {
     "end_time": "2024-09-16T13:27:00.654940Z",
     "start_time": "2024-09-16T13:27:00.573158Z"
    }
   },
   "outputs": [
    {
     "name": "stdout",
     "output_type": "stream",
     "text": [
      "<class 'pandas.core.frame.DataFrame'>\n",
      "RangeIndex: 1000 entries, 0 to 999\n",
      "Data columns (total 17 columns):\n",
      " #   Column                   Non-Null Count  Dtype  \n",
      "---  ------                   --------------  -----  \n",
      " 0   Invoice ID               1000 non-null   object \n",
      " 1   Branch                   1000 non-null   object \n",
      " 2   City                     1000 non-null   object \n",
      " 3   Customer type            1000 non-null   object \n",
      " 4   Gender                   1000 non-null   object \n",
      " 5   Product line             1000 non-null   object \n",
      " 6   Unit price               1000 non-null   float64\n",
      " 7   Quantity                 1000 non-null   int64  \n",
      " 8   Tax 5%                   1000 non-null   float64\n",
      " 9   Total                    1000 non-null   float64\n",
      " 10  Date                     1000 non-null   object \n",
      " 11  Time                     1000 non-null   object \n",
      " 12  Payment                  1000 non-null   object \n",
      " 13  cogs                     1000 non-null   float64\n",
      " 14  gross margin percentage  1000 non-null   float64\n",
      " 15  gross income             1000 non-null   float64\n",
      " 16  Rating                   1000 non-null   float64\n",
      "dtypes: float64(7), int64(1), object(9)\n",
      "memory usage: 132.9+ KB\n"
     ]
    }
   ],
   "source": [
    "# Data structure and info\n",
    "data.info()"
   ]
  },
  {
   "cell_type": "code",
   "execution_count": 5,
   "id": "5cfe2403",
   "metadata": {
    "ExecuteTime": {
     "end_time": "2024-09-16T13:27:00.737933Z",
     "start_time": "2024-09-16T13:27:00.687865Z"
    }
   },
   "outputs": [
    {
     "data": {
      "text/plain": [
       "0"
      ]
     },
     "execution_count": 5,
     "metadata": {},
     "output_type": "execute_result"
    }
   ],
   "source": [
    "# Check for duplicates\n",
    "data.duplicated().sum()"
   ]
  },
  {
   "cell_type": "markdown",
   "id": "c65a8b61",
   "metadata": {},
   "source": [
    "## Date Range and Invoice Analysis\n",
    "- Identify the date range of the data.\n",
    "- Count the unique number of days with invoices.\n"
   ]
  },
  {
   "cell_type": "code",
   "execution_count": 6,
   "id": "68460dd6",
   "metadata": {
    "ExecuteTime": {
     "end_time": "2024-09-16T13:27:00.801024Z",
     "start_time": "2024-09-16T13:27:00.772784Z"
    }
   },
   "outputs": [
    {
     "name": "stdout",
     "output_type": "stream",
     "text": [
      "Date range from: 1/1/2019 to 3/9/2019\n",
      "89 unique days of invoices.\n"
     ]
    }
   ],
   "source": [
    "# Date range and unique days\n",
    "print('Date range from:', data['Date'].min(), 'to', data['Date'].max())\n",
    "print(f\"{data['Date'].nunique()} unique days of invoices.\")"
   ]
  },
  {
   "cell_type": "markdown",
   "id": "dd5b5166",
   "metadata": {
    "ExecuteTime": {
     "end_time": "2024-09-16T13:00:54.411662Z",
     "start_time": "2024-09-16T13:00:54.384492Z"
    }
   },
   "source": [
    "## Profit Analysis by Day\n",
    "- Arrange the days based on total gross income (lowest to highest).\n"
   ]
  },
  {
   "cell_type": "code",
   "execution_count": 7,
   "id": "eb8feb4f",
   "metadata": {
    "ExecuteTime": {
     "end_time": "2024-09-16T13:27:00.884790Z",
     "start_time": "2024-09-16T13:27:00.833936Z"
    }
   },
   "outputs": [
    {
     "data": {
      "text/plain": [
       "Date\n",
       "2/13/2019     44.4875\n",
       "3/18/2019     61.5635\n",
       "2/21/2019     66.3685\n",
       "3/7/2019      68.4885\n",
       "2/18/2019     71.2395\n",
       "               ...   \n",
       "3/2/2019     312.3955\n",
       "2/15/2019    325.2755\n",
       "3/14/2019    343.5540\n",
       "2/7/2019     344.2005\n",
       "3/9/2019     355.9070\n",
       "Name: gross income, Length: 89, dtype: float64"
      ]
     },
     "execution_count": 7,
     "metadata": {},
     "output_type": "execute_result"
    }
   ],
   "source": [
    "#Arrange the profit by day for all branches from lowest to highest\n",
    "data.groupby('Date')['gross income'].sum().sort_values()"
   ]
  },
  {
   "cell_type": "code",
   "execution_count": 8,
   "id": "5c4e3613",
   "metadata": {
    "ExecuteTime": {
     "end_time": "2024-09-16T13:27:01.080045Z",
     "start_time": "2024-09-16T13:27:00.916705Z"
    }
   },
   "outputs": [
    {
     "data": {
      "text/html": [
       "<div>\n",
       "<style scoped>\n",
       "    .dataframe tbody tr th:only-of-type {\n",
       "        vertical-align: middle;\n",
       "    }\n",
       "\n",
       "    .dataframe tbody tr th {\n",
       "        vertical-align: top;\n",
       "    }\n",
       "\n",
       "    .dataframe thead th {\n",
       "        text-align: right;\n",
       "    }\n",
       "</style>\n",
       "<table border=\"1\" class=\"dataframe\">\n",
       "  <thead>\n",
       "    <tr style=\"text-align: right;\">\n",
       "      <th></th>\n",
       "      <th>Invoice ID</th>\n",
       "      <th>Branch</th>\n",
       "      <th>City</th>\n",
       "      <th>Customer type</th>\n",
       "      <th>Gender</th>\n",
       "      <th>Product line</th>\n",
       "      <th>Unit price</th>\n",
       "      <th>Quantity</th>\n",
       "      <th>Tax 5%</th>\n",
       "      <th>Total</th>\n",
       "      <th>Date</th>\n",
       "      <th>Time</th>\n",
       "      <th>Payment</th>\n",
       "      <th>cogs</th>\n",
       "      <th>gross margin percentage</th>\n",
       "      <th>gross income</th>\n",
       "      <th>Rating</th>\n",
       "    </tr>\n",
       "  </thead>\n",
       "  <tbody>\n",
       "    <tr>\n",
       "      <th>207</th>\n",
       "      <td>263-87-5680</td>\n",
       "      <td>C</td>\n",
       "      <td>Naypyitaw</td>\n",
       "      <td>Member</td>\n",
       "      <td>Female</td>\n",
       "      <td>Home and lifestyle</td>\n",
       "      <td>28.53</td>\n",
       "      <td>10</td>\n",
       "      <td>14.2650</td>\n",
       "      <td>299.5650</td>\n",
       "      <td>3/18/2019</td>\n",
       "      <td>17:38</td>\n",
       "      <td>Ewallet</td>\n",
       "      <td>285.30</td>\n",
       "      <td>4.761905</td>\n",
       "      <td>14.2650</td>\n",
       "      <td>7.8</td>\n",
       "    </tr>\n",
       "    <tr>\n",
       "      <th>303</th>\n",
       "      <td>439-54-7422</td>\n",
       "      <td>A</td>\n",
       "      <td>Yangon</td>\n",
       "      <td>Normal</td>\n",
       "      <td>Female</td>\n",
       "      <td>Electronic accessories</td>\n",
       "      <td>51.19</td>\n",
       "      <td>4</td>\n",
       "      <td>10.2380</td>\n",
       "      <td>214.9980</td>\n",
       "      <td>3/18/2019</td>\n",
       "      <td>17:15</td>\n",
       "      <td>Credit card</td>\n",
       "      <td>204.76</td>\n",
       "      <td>4.761905</td>\n",
       "      <td>10.2380</td>\n",
       "      <td>4.7</td>\n",
       "    </tr>\n",
       "    <tr>\n",
       "      <th>476</th>\n",
       "      <td>485-30-8700</td>\n",
       "      <td>A</td>\n",
       "      <td>Yangon</td>\n",
       "      <td>Normal</td>\n",
       "      <td>Female</td>\n",
       "      <td>Sports and travel</td>\n",
       "      <td>33.26</td>\n",
       "      <td>5</td>\n",
       "      <td>8.3150</td>\n",
       "      <td>174.6150</td>\n",
       "      <td>3/18/2019</td>\n",
       "      <td>16:10</td>\n",
       "      <td>Credit card</td>\n",
       "      <td>166.30</td>\n",
       "      <td>4.761905</td>\n",
       "      <td>8.3150</td>\n",
       "      <td>4.2</td>\n",
       "    </tr>\n",
       "    <tr>\n",
       "      <th>515</th>\n",
       "      <td>413-20-6708</td>\n",
       "      <td>C</td>\n",
       "      <td>Naypyitaw</td>\n",
       "      <td>Member</td>\n",
       "      <td>Female</td>\n",
       "      <td>Fashion accessories</td>\n",
       "      <td>51.47</td>\n",
       "      <td>1</td>\n",
       "      <td>2.5735</td>\n",
       "      <td>54.0435</td>\n",
       "      <td>3/18/2019</td>\n",
       "      <td>15:52</td>\n",
       "      <td>Ewallet</td>\n",
       "      <td>51.47</td>\n",
       "      <td>4.761905</td>\n",
       "      <td>2.5735</td>\n",
       "      <td>8.5</td>\n",
       "    </tr>\n",
       "    <tr>\n",
       "      <th>633</th>\n",
       "      <td>420-04-7590</td>\n",
       "      <td>B</td>\n",
       "      <td>Mandalay</td>\n",
       "      <td>Normal</td>\n",
       "      <td>Male</td>\n",
       "      <td>Home and lifestyle</td>\n",
       "      <td>99.70</td>\n",
       "      <td>3</td>\n",
       "      <td>14.9550</td>\n",
       "      <td>314.0550</td>\n",
       "      <td>3/18/2019</td>\n",
       "      <td>11:29</td>\n",
       "      <td>Ewallet</td>\n",
       "      <td>299.10</td>\n",
       "      <td>4.761905</td>\n",
       "      <td>14.9550</td>\n",
       "      <td>4.7</td>\n",
       "    </tr>\n",
       "    <tr>\n",
       "      <th>722</th>\n",
       "      <td>776-68-1096</td>\n",
       "      <td>B</td>\n",
       "      <td>Mandalay</td>\n",
       "      <td>Normal</td>\n",
       "      <td>Male</td>\n",
       "      <td>Home and lifestyle</td>\n",
       "      <td>44.12</td>\n",
       "      <td>3</td>\n",
       "      <td>6.6180</td>\n",
       "      <td>138.9780</td>\n",
       "      <td>3/18/2019</td>\n",
       "      <td>13:45</td>\n",
       "      <td>Credit card</td>\n",
       "      <td>132.36</td>\n",
       "      <td>4.761905</td>\n",
       "      <td>6.6180</td>\n",
       "      <td>7.9</td>\n",
       "    </tr>\n",
       "    <tr>\n",
       "      <th>960</th>\n",
       "      <td>256-58-3609</td>\n",
       "      <td>C</td>\n",
       "      <td>Naypyitaw</td>\n",
       "      <td>Member</td>\n",
       "      <td>Male</td>\n",
       "      <td>Fashion accessories</td>\n",
       "      <td>91.98</td>\n",
       "      <td>1</td>\n",
       "      <td>4.5990</td>\n",
       "      <td>96.5790</td>\n",
       "      <td>3/18/2019</td>\n",
       "      <td>15:29</td>\n",
       "      <td>Cash</td>\n",
       "      <td>91.98</td>\n",
       "      <td>4.761905</td>\n",
       "      <td>4.5990</td>\n",
       "      <td>9.8</td>\n",
       "    </tr>\n",
       "  </tbody>\n",
       "</table>\n",
       "</div>"
      ],
      "text/plain": [
       "      Invoice ID Branch       City Customer type  Gender  \\\n",
       "207  263-87-5680      C  Naypyitaw        Member  Female   \n",
       "303  439-54-7422      A     Yangon        Normal  Female   \n",
       "476  485-30-8700      A     Yangon        Normal  Female   \n",
       "515  413-20-6708      C  Naypyitaw        Member  Female   \n",
       "633  420-04-7590      B   Mandalay        Normal    Male   \n",
       "722  776-68-1096      B   Mandalay        Normal    Male   \n",
       "960  256-58-3609      C  Naypyitaw        Member    Male   \n",
       "\n",
       "               Product line  Unit price  Quantity   Tax 5%     Total  \\\n",
       "207      Home and lifestyle       28.53        10  14.2650  299.5650   \n",
       "303  Electronic accessories       51.19         4  10.2380  214.9980   \n",
       "476       Sports and travel       33.26         5   8.3150  174.6150   \n",
       "515     Fashion accessories       51.47         1   2.5735   54.0435   \n",
       "633      Home and lifestyle       99.70         3  14.9550  314.0550   \n",
       "722      Home and lifestyle       44.12         3   6.6180  138.9780   \n",
       "960     Fashion accessories       91.98         1   4.5990   96.5790   \n",
       "\n",
       "          Date   Time      Payment    cogs  gross margin percentage  \\\n",
       "207  3/18/2019  17:38      Ewallet  285.30                 4.761905   \n",
       "303  3/18/2019  17:15  Credit card  204.76                 4.761905   \n",
       "476  3/18/2019  16:10  Credit card  166.30                 4.761905   \n",
       "515  3/18/2019  15:52      Ewallet   51.47                 4.761905   \n",
       "633  3/18/2019  11:29      Ewallet  299.10                 4.761905   \n",
       "722  3/18/2019  13:45  Credit card  132.36                 4.761905   \n",
       "960  3/18/2019  15:29         Cash   91.98                 4.761905   \n",
       "\n",
       "     gross income  Rating  \n",
       "207       14.2650     7.8  \n",
       "303       10.2380     4.7  \n",
       "476        8.3150     4.2  \n",
       "515        2.5735     8.5  \n",
       "633       14.9550     4.7  \n",
       "722        6.6180     7.9  \n",
       "960        4.5990     9.8  "
      ]
     },
     "execution_count": 8,
     "metadata": {},
     "output_type": "execute_result"
    }
   ],
   "source": [
    "data[data['Date']=='3/18/2019']"
   ]
  },
  {
   "cell_type": "markdown",
   "id": "53f6cf95",
   "metadata": {},
   "source": [
    "## Branch Analysis\n",
    "- Count the total number of branches.\n",
    "- Count the number of invoices issued by each branch.\n",
    "- Analyze gross income and location for each branch.\n",
    "- Find the working hours for each branch.\n"
   ]
  },
  {
   "cell_type": "code",
   "execution_count": 9,
   "id": "b7a0db5b",
   "metadata": {
    "ExecuteTime": {
     "end_time": "2024-09-16T13:27:01.143860Z",
     "start_time": "2024-09-16T13:27:01.113937Z"
    }
   },
   "outputs": [
    {
     "data": {
      "text/plain": [
       "3"
      ]
     },
     "execution_count": 9,
     "metadata": {},
     "output_type": "execute_result"
    }
   ],
   "source": [
    "#how many branches do we have?\n",
    "data['Branch'].nunique()"
   ]
  },
  {
   "cell_type": "code",
   "execution_count": 10,
   "id": "690e9345",
   "metadata": {
    "ExecuteTime": {
     "end_time": "2024-09-16T13:27:01.202693Z",
     "start_time": "2024-09-16T13:27:01.159819Z"
    }
   },
   "outputs": [
    {
     "data": {
      "text/plain": [
       "Branch\n",
       "A    340\n",
       "B    332\n",
       "C    328\n",
       "Name: Invoice ID, dtype: int64"
      ]
     },
     "execution_count": 10,
     "metadata": {},
     "output_type": "execute_result"
    }
   ],
   "source": [
    "#count the number of invoices issued by each branch\n",
    "data.groupby('Branch')['Invoice ID'].count()"
   ]
  },
  {
   "cell_type": "code",
   "execution_count": 11,
   "id": "ddfdebfb",
   "metadata": {
    "ExecuteTime": {
     "end_time": "2024-09-16T13:27:01.263523Z",
     "start_time": "2024-09-16T13:27:01.218643Z"
    }
   },
   "outputs": [
    {
     "data": {
      "text/plain": [
       "Branch\n",
       "B    5057.0320\n",
       "A    5057.1605\n",
       "C    5265.1765\n",
       "Name: gross income, dtype: float64"
      ]
     },
     "execution_count": 11,
     "metadata": {},
     "output_type": "execute_result"
    }
   ],
   "source": [
    "# Gross income per branch\n",
    "data.groupby('Branch')['gross income'].sum().sort_values()"
   ]
  },
  {
   "cell_type": "code",
   "execution_count": 12,
   "id": "b3bede4b",
   "metadata": {
    "ExecuteTime": {
     "end_time": "2024-09-16T13:27:01.329577Z",
     "start_time": "2024-09-16T13:27:01.281479Z"
    }
   },
   "outputs": [
    {
     "data": {
      "text/plain": [
       "Branch\n",
       "A       [Yangon]\n",
       "B     [Mandalay]\n",
       "C    [Naypyitaw]\n",
       "Name: City, dtype: object"
      ]
     },
     "execution_count": 12,
     "metadata": {},
     "output_type": "execute_result"
    }
   ],
   "source": [
    "# # Branch locations\n",
    "data.groupby('Branch')['City'].unique()"
   ]
  },
  {
   "cell_type": "code",
   "execution_count": 13,
   "id": "ea5ef671",
   "metadata": {
    "ExecuteTime": {
     "end_time": "2024-09-16T13:27:01.399962Z",
     "start_time": "2024-09-16T13:27:01.346511Z"
    }
   },
   "outputs": [
    {
     "name": "stdout",
     "output_type": "stream",
     "text": [
      "Branch working hours:\n",
      "Start: Branch\n",
      "A    10:00\n",
      "B    10:01\n",
      "C    10:00\n",
      "Name: Time, dtype: object\n",
      "Close: Branch\n",
      "A    20:59\n",
      "B    20:57\n",
      "C    20:59\n",
      "Name: Time, dtype: object\n"
     ]
    }
   ],
   "source": [
    "# Branch working hours\n",
    "print(\"Branch working hours:\")\n",
    "print(\"Start:\", data.groupby('Branch')['Time'].min())\n",
    "print(\"Close:\", data.groupby('Branch')['Time'].max())"
   ]
  },
  {
   "cell_type": "code",
   "execution_count": 14,
   "id": "b2d96b01",
   "metadata": {
    "ExecuteTime": {
     "end_time": "2024-09-16T13:27:01.446819Z",
     "start_time": "2024-09-16T13:27:01.419897Z"
    }
   },
   "outputs": [
    {
     "name": "stdout",
     "output_type": "stream",
     "text": [
      "working hours from : 10:00 to 20:59\n"
     ]
    }
   ],
   "source": [
    "print('working hours from :',data['Time'].min(),'to', data['Time'].max())"
   ]
  },
  {
   "cell_type": "markdown",
   "id": "8c28d4ea",
   "metadata": {},
   "source": [
    "## Customer Type and Payment Methods\n",
    "- Analyze customer type and their distribution.\n",
    "- Analyze the payment methods used.\n"
   ]
  },
  {
   "cell_type": "code",
   "execution_count": 15,
   "id": "35343edd",
   "metadata": {
    "ExecuteTime": {
     "end_time": "2024-09-16T13:27:01.490803Z",
     "start_time": "2024-09-16T13:27:01.459782Z"
    }
   },
   "outputs": [
    {
     "data": {
      "text/plain": [
       "array(['Member', 'Normal'], dtype=object)"
      ]
     },
     "execution_count": 15,
     "metadata": {},
     "output_type": "execute_result"
    }
   ],
   "source": [
    "# Unique customer types\n",
    "data['Customer type'].unique()"
   ]
  },
  {
   "cell_type": "code",
   "execution_count": 16,
   "id": "13daa0dd",
   "metadata": {
    "ExecuteTime": {
     "end_time": "2024-09-16T13:27:01.539984Z",
     "start_time": "2024-09-16T13:27:01.506752Z"
    }
   },
   "outputs": [
    {
     "data": {
      "text/plain": [
       "Customer type\n",
       "Member    501\n",
       "Normal    499\n",
       "Name: count, dtype: int64"
      ]
     },
     "execution_count": 16,
     "metadata": {},
     "output_type": "execute_result"
    }
   ],
   "source": [
    "# count each type\n",
    "data['Customer type'].value_counts()"
   ]
  },
  {
   "cell_type": "code",
   "execution_count": 17,
   "id": "1e65224e",
   "metadata": {
    "ExecuteTime": {
     "end_time": "2024-09-16T13:27:01.601769Z",
     "start_time": "2024-09-16T13:27:01.556947Z"
    }
   },
   "outputs": [
    {
     "data": {
      "text/plain": [
       "Gender\n",
       "Female    261\n",
       "Male      240\n",
       "Name: count, dtype: int64"
      ]
     },
     "execution_count": 17,
     "metadata": {},
     "output_type": "execute_result"
    }
   ],
   "source": [
    "# how many males and females for each costomer type\n",
    "data[data['Customer type'] == 'Member']['Gender'].value_counts()"
   ]
  },
  {
   "cell_type": "code",
   "execution_count": 18,
   "id": "aed36a85",
   "metadata": {
    "ExecuteTime": {
     "end_time": "2024-09-16T13:27:01.657662Z",
     "start_time": "2024-09-16T13:27:01.616723Z"
    }
   },
   "outputs": [
    {
     "data": {
      "text/plain": [
       "Gender\n",
       "Male      259\n",
       "Female    240\n",
       "Name: count, dtype: int64"
      ]
     },
     "execution_count": 18,
     "metadata": {},
     "output_type": "execute_result"
    }
   ],
   "source": [
    "data[data['Customer type'] == 'Normal']['Gender'].value_counts()"
   ]
  },
  {
   "cell_type": "code",
   "execution_count": 19,
   "id": "da232c37",
   "metadata": {
    "ExecuteTime": {
     "end_time": "2024-09-16T13:27:01.700359Z",
     "start_time": "2024-09-16T13:27:01.671605Z"
    }
   },
   "outputs": [
    {
     "data": {
      "text/plain": [
       "array(['Ewallet', 'Cash', 'Credit card'], dtype=object)"
      ]
     },
     "execution_count": 19,
     "metadata": {},
     "output_type": "execute_result"
    }
   ],
   "source": [
    "# Payment methods\n",
    "data['Payment'].unique()"
   ]
  },
  {
   "cell_type": "code",
   "execution_count": 20,
   "id": "e2a4c636",
   "metadata": {
    "ExecuteTime": {
     "end_time": "2024-09-16T13:27:01.754088Z",
     "start_time": "2024-09-16T13:27:01.715300Z"
    }
   },
   "outputs": [
    {
     "data": {
      "text/plain": [
       "Payment\n",
       "Ewallet        345\n",
       "Cash           344\n",
       "Credit card    311\n",
       "Name: count, dtype: int64"
      ]
     },
     "execution_count": 20,
     "metadata": {},
     "output_type": "execute_result"
    }
   ],
   "source": [
    "# count each method\n",
    "data['Payment'].value_counts()"
   ]
  },
  {
   "cell_type": "markdown",
   "id": "8cb7262f",
   "metadata": {},
   "source": [
    "## Product Line and Rating Analysis\n",
    "- Analyze product line distribution.\n",
    "- Analyze average rating per product line.\n",
    "- Identify days with low ratings (4.0 and 4.1) and analyze low ratings by branch, product, and gender.\n"
   ]
  },
  {
   "cell_type": "code",
   "execution_count": 21,
   "id": "1e5508c7",
   "metadata": {
    "ExecuteTime": {
     "end_time": "2024-09-16T13:27:01.808052Z",
     "start_time": "2024-09-16T13:27:01.770036Z"
    }
   },
   "outputs": [
    {
     "data": {
      "text/plain": [
       "array(['Health and beauty', 'Electronic accessories',\n",
       "       'Home and lifestyle', 'Sports and travel', 'Food and beverages',\n",
       "       'Fashion accessories'], dtype=object)"
      ]
     },
     "execution_count": 21,
     "metadata": {},
     "output_type": "execute_result"
    }
   ],
   "source": [
    "# identify Product lines\n",
    "data['Product line'].unique()"
   ]
  },
  {
   "cell_type": "code",
   "execution_count": 22,
   "id": "764a85f2",
   "metadata": {
    "ExecuteTime": {
     "end_time": "2024-09-16T13:27:01.863209Z",
     "start_time": "2024-09-16T13:27:01.822991Z"
    }
   },
   "outputs": [
    {
     "data": {
      "text/plain": [
       "Product line\n",
       "Health and beauty         152\n",
       "Home and lifestyle        160\n",
       "Sports and travel         166\n",
       "Electronic accessories    170\n",
       "Food and beverages        174\n",
       "Fashion accessories       178\n",
       "Name: count, dtype: int64"
      ]
     },
     "execution_count": 22,
     "metadata": {},
     "output_type": "execute_result"
    }
   ],
   "source": [
    "# how many invoices issued for each product line\n",
    "data['Product line'].value_counts().sort_values()"
   ]
  },
  {
   "cell_type": "code",
   "execution_count": 23,
   "id": "575bc685",
   "metadata": {
    "ExecuteTime": {
     "end_time": "2024-09-16T13:27:01.923255Z",
     "start_time": "2024-09-16T13:27:01.877177Z"
    }
   },
   "outputs": [
    {
     "data": {
      "text/plain": [
       "Product line\n",
       "Home and lifestyle        6.837500\n",
       "Sports and travel         6.916265\n",
       "Electronic accessories    6.924706\n",
       "Health and beauty         7.003289\n",
       "Fashion accessories       7.029213\n",
       "Food and beverages        7.113218\n",
       "Name: Rating, dtype: float64"
      ]
     },
     "execution_count": 23,
     "metadata": {},
     "output_type": "execute_result"
    }
   ],
   "source": [
    "data.groupby('Product line')['Rating'].mean().sort_values()\n",
    "# average rating per product"
   ]
  },
  {
   "cell_type": "code",
   "execution_count": 24,
   "id": "5073816d",
   "metadata": {
    "ExecuteTime": {
     "end_time": "2024-09-16T13:27:01.975559Z",
     "start_time": "2024-09-16T13:27:01.939184Z"
    }
   },
   "outputs": [
    {
     "name": "stdout",
     "output_type": "stream",
     "text": [
      "Percentage of ratings above 5: 82.6%\n"
     ]
    }
   ],
   "source": [
    "# Count the number of ratings above 5\n",
    "ratings_above_5 = len(data[data['Rating'] > 5])\n",
    "\n",
    "# Count the total number of ratings\n",
    "total_ratings = len(data)\n",
    "\n",
    "# Calculate the percentage of ratings above 5\n",
    "percentage_above_5 = (ratings_above_5 / total_ratings) * 100\n",
    "\n",
    "# Print the percentage rounded to one decimal place\n",
    "print(f'Percentage of ratings above 5: {percentage_above_5:.1f}%')\n"
   ]
  },
  {
   "cell_type": "code",
   "execution_count": 25,
   "id": "ed8eb0d1",
   "metadata": {
    "ExecuteTime": {
     "end_time": "2024-09-16T13:27:02.211942Z",
     "start_time": "2024-09-16T13:27:02.001022Z"
    }
   },
   "outputs": [
    {
     "data": {
      "text/html": [
       "<div>\n",
       "<style scoped>\n",
       "    .dataframe tbody tr th:only-of-type {\n",
       "        vertical-align: middle;\n",
       "    }\n",
       "\n",
       "    .dataframe tbody tr th {\n",
       "        vertical-align: top;\n",
       "    }\n",
       "\n",
       "    .dataframe thead th {\n",
       "        text-align: right;\n",
       "    }\n",
       "</style>\n",
       "<table border=\"1\" class=\"dataframe\">\n",
       "  <thead>\n",
       "    <tr style=\"text-align: right;\">\n",
       "      <th></th>\n",
       "      <th>Unit price</th>\n",
       "      <th>Quantity</th>\n",
       "      <th>Tax 5%</th>\n",
       "      <th>Total</th>\n",
       "      <th>cogs</th>\n",
       "      <th>gross margin percentage</th>\n",
       "      <th>gross income</th>\n",
       "      <th>Rating</th>\n",
       "    </tr>\n",
       "  </thead>\n",
       "  <tbody>\n",
       "    <tr>\n",
       "      <th>count</th>\n",
       "      <td>174.000000</td>\n",
       "      <td>174.000000</td>\n",
       "      <td>174.000000</td>\n",
       "      <td>174.000000</td>\n",
       "      <td>174.000000</td>\n",
       "      <td>1.740000e+02</td>\n",
       "      <td>174.000000</td>\n",
       "      <td>174.000000</td>\n",
       "    </tr>\n",
       "    <tr>\n",
       "      <th>mean</th>\n",
       "      <td>57.004310</td>\n",
       "      <td>5.580460</td>\n",
       "      <td>16.504922</td>\n",
       "      <td>346.603371</td>\n",
       "      <td>330.098448</td>\n",
       "      <td>4.761905e+00</td>\n",
       "      <td>16.504922</td>\n",
       "      <td>4.503448</td>\n",
       "    </tr>\n",
       "    <tr>\n",
       "      <th>std</th>\n",
       "      <td>26.418405</td>\n",
       "      <td>2.921293</td>\n",
       "      <td>12.710343</td>\n",
       "      <td>266.917199</td>\n",
       "      <td>254.206856</td>\n",
       "      <td>1.959632e-14</td>\n",
       "      <td>12.710343</td>\n",
       "      <td>0.324331</td>\n",
       "    </tr>\n",
       "    <tr>\n",
       "      <th>min</th>\n",
       "      <td>10.080000</td>\n",
       "      <td>1.000000</td>\n",
       "      <td>0.814000</td>\n",
       "      <td>17.094000</td>\n",
       "      <td>16.280000</td>\n",
       "      <td>4.761905e+00</td>\n",
       "      <td>0.814000</td>\n",
       "      <td>4.000000</td>\n",
       "    </tr>\n",
       "    <tr>\n",
       "      <th>25%</th>\n",
       "      <td>35.152500</td>\n",
       "      <td>3.000000</td>\n",
       "      <td>4.747000</td>\n",
       "      <td>99.687000</td>\n",
       "      <td>94.940000</td>\n",
       "      <td>4.761905e+00</td>\n",
       "      <td>4.747000</td>\n",
       "      <td>4.200000</td>\n",
       "    </tr>\n",
       "    <tr>\n",
       "      <th>50%</th>\n",
       "      <td>60.045000</td>\n",
       "      <td>5.000000</td>\n",
       "      <td>13.654750</td>\n",
       "      <td>286.749750</td>\n",
       "      <td>273.095000</td>\n",
       "      <td>4.761905e+00</td>\n",
       "      <td>13.654750</td>\n",
       "      <td>4.500000</td>\n",
       "    </tr>\n",
       "    <tr>\n",
       "      <th>75%</th>\n",
       "      <td>77.452500</td>\n",
       "      <td>8.000000</td>\n",
       "      <td>25.490500</td>\n",
       "      <td>535.300500</td>\n",
       "      <td>509.810000</td>\n",
       "      <td>4.761905e+00</td>\n",
       "      <td>25.490500</td>\n",
       "      <td>4.800000</td>\n",
       "    </tr>\n",
       "    <tr>\n",
       "      <th>max</th>\n",
       "      <td>99.960000</td>\n",
       "      <td>10.000000</td>\n",
       "      <td>49.260000</td>\n",
       "      <td>1034.460000</td>\n",
       "      <td>985.200000</td>\n",
       "      <td>4.761905e+00</td>\n",
       "      <td>49.260000</td>\n",
       "      <td>5.000000</td>\n",
       "    </tr>\n",
       "  </tbody>\n",
       "</table>\n",
       "</div>"
      ],
      "text/plain": [
       "       Unit price    Quantity      Tax 5%        Total        cogs  \\\n",
       "count  174.000000  174.000000  174.000000   174.000000  174.000000   \n",
       "mean    57.004310    5.580460   16.504922   346.603371  330.098448   \n",
       "std     26.418405    2.921293   12.710343   266.917199  254.206856   \n",
       "min     10.080000    1.000000    0.814000    17.094000   16.280000   \n",
       "25%     35.152500    3.000000    4.747000    99.687000   94.940000   \n",
       "50%     60.045000    5.000000   13.654750   286.749750  273.095000   \n",
       "75%     77.452500    8.000000   25.490500   535.300500  509.810000   \n",
       "max     99.960000   10.000000   49.260000  1034.460000  985.200000   \n",
       "\n",
       "       gross margin percentage  gross income      Rating  \n",
       "count             1.740000e+02    174.000000  174.000000  \n",
       "mean              4.761905e+00     16.504922    4.503448  \n",
       "std               1.959632e-14     12.710343    0.324331  \n",
       "min               4.761905e+00      0.814000    4.000000  \n",
       "25%               4.761905e+00      4.747000    4.200000  \n",
       "50%               4.761905e+00     13.654750    4.500000  \n",
       "75%               4.761905e+00     25.490500    4.800000  \n",
       "max               4.761905e+00     49.260000    5.000000  "
      ]
     },
     "execution_count": 25,
     "metadata": {},
     "output_type": "execute_result"
    }
   ],
   "source": [
    "invoices_with_rating_bellow_avg=data[data['Rating'] <= 5]\n",
    "invoices_with_rating_bellow_avg.describe()"
   ]
  },
  {
   "cell_type": "code",
   "execution_count": 26,
   "id": "42052def",
   "metadata": {
    "ExecuteTime": {
     "end_time": "2024-09-16T13:27:02.474824Z",
     "start_time": "2024-09-16T13:27:02.227877Z"
    }
   },
   "outputs": [
    {
     "data": {
      "text/html": [
       "<div>\n",
       "<style scoped>\n",
       "    .dataframe tbody tr th:only-of-type {\n",
       "        vertical-align: middle;\n",
       "    }\n",
       "\n",
       "    .dataframe tbody tr th {\n",
       "        vertical-align: top;\n",
       "    }\n",
       "\n",
       "    .dataframe thead th {\n",
       "        text-align: right;\n",
       "    }\n",
       "</style>\n",
       "<table border=\"1\" class=\"dataframe\">\n",
       "  <thead>\n",
       "    <tr style=\"text-align: right;\">\n",
       "      <th></th>\n",
       "      <th>Invoice ID</th>\n",
       "      <th>Branch</th>\n",
       "      <th>City</th>\n",
       "      <th>Customer type</th>\n",
       "      <th>Gender</th>\n",
       "      <th>Product line</th>\n",
       "      <th>Unit price</th>\n",
       "      <th>Quantity</th>\n",
       "      <th>Tax 5%</th>\n",
       "      <th>Total</th>\n",
       "      <th>Date</th>\n",
       "      <th>Time</th>\n",
       "      <th>Payment</th>\n",
       "      <th>cogs</th>\n",
       "      <th>gross margin percentage</th>\n",
       "      <th>gross income</th>\n",
       "      <th>Rating</th>\n",
       "    </tr>\n",
       "  </thead>\n",
       "  <tbody>\n",
       "    <tr>\n",
       "      <th>5</th>\n",
       "      <td>699-14-3026</td>\n",
       "      <td>C</td>\n",
       "      <td>Naypyitaw</td>\n",
       "      <td>Normal</td>\n",
       "      <td>Male</td>\n",
       "      <td>Electronic accessories</td>\n",
       "      <td>85.39</td>\n",
       "      <td>7</td>\n",
       "      <td>29.8865</td>\n",
       "      <td>627.6165</td>\n",
       "      <td>3/25/2019</td>\n",
       "      <td>18:30</td>\n",
       "      <td>Ewallet</td>\n",
       "      <td>597.73</td>\n",
       "      <td>4.761905</td>\n",
       "      <td>29.8865</td>\n",
       "      <td>4.1</td>\n",
       "    </tr>\n",
       "    <tr>\n",
       "      <th>10</th>\n",
       "      <td>351-62-0822</td>\n",
       "      <td>B</td>\n",
       "      <td>Mandalay</td>\n",
       "      <td>Member</td>\n",
       "      <td>Female</td>\n",
       "      <td>Fashion accessories</td>\n",
       "      <td>14.48</td>\n",
       "      <td>4</td>\n",
       "      <td>2.8960</td>\n",
       "      <td>60.8160</td>\n",
       "      <td>2/6/2019</td>\n",
       "      <td>18:07</td>\n",
       "      <td>Ewallet</td>\n",
       "      <td>57.92</td>\n",
       "      <td>4.761905</td>\n",
       "      <td>2.8960</td>\n",
       "      <td>4.5</td>\n",
       "    </tr>\n",
       "    <tr>\n",
       "      <th>15</th>\n",
       "      <td>299-46-1805</td>\n",
       "      <td>B</td>\n",
       "      <td>Mandalay</td>\n",
       "      <td>Member</td>\n",
       "      <td>Female</td>\n",
       "      <td>Sports and travel</td>\n",
       "      <td>93.72</td>\n",
       "      <td>6</td>\n",
       "      <td>28.1160</td>\n",
       "      <td>590.4360</td>\n",
       "      <td>1/15/2019</td>\n",
       "      <td>16:19</td>\n",
       "      <td>Cash</td>\n",
       "      <td>562.32</td>\n",
       "      <td>4.761905</td>\n",
       "      <td>28.1160</td>\n",
       "      <td>4.5</td>\n",
       "    </tr>\n",
       "    <tr>\n",
       "      <th>16</th>\n",
       "      <td>656-95-9349</td>\n",
       "      <td>A</td>\n",
       "      <td>Yangon</td>\n",
       "      <td>Member</td>\n",
       "      <td>Female</td>\n",
       "      <td>Health and beauty</td>\n",
       "      <td>68.93</td>\n",
       "      <td>7</td>\n",
       "      <td>24.1255</td>\n",
       "      <td>506.6355</td>\n",
       "      <td>3/11/2019</td>\n",
       "      <td>11:03</td>\n",
       "      <td>Credit card</td>\n",
       "      <td>482.51</td>\n",
       "      <td>4.761905</td>\n",
       "      <td>24.1255</td>\n",
       "      <td>4.6</td>\n",
       "    </tr>\n",
       "    <tr>\n",
       "      <th>19</th>\n",
       "      <td>319-50-3348</td>\n",
       "      <td>B</td>\n",
       "      <td>Mandalay</td>\n",
       "      <td>Normal</td>\n",
       "      <td>Female</td>\n",
       "      <td>Home and lifestyle</td>\n",
       "      <td>40.30</td>\n",
       "      <td>2</td>\n",
       "      <td>4.0300</td>\n",
       "      <td>84.6300</td>\n",
       "      <td>3/11/2019</td>\n",
       "      <td>15:30</td>\n",
       "      <td>Ewallet</td>\n",
       "      <td>80.60</td>\n",
       "      <td>4.761905</td>\n",
       "      <td>4.0300</td>\n",
       "      <td>4.4</td>\n",
       "    </tr>\n",
       "    <tr>\n",
       "      <th>...</th>\n",
       "      <td>...</td>\n",
       "      <td>...</td>\n",
       "      <td>...</td>\n",
       "      <td>...</td>\n",
       "      <td>...</td>\n",
       "      <td>...</td>\n",
       "      <td>...</td>\n",
       "      <td>...</td>\n",
       "      <td>...</td>\n",
       "      <td>...</td>\n",
       "      <td>...</td>\n",
       "      <td>...</td>\n",
       "      <td>...</td>\n",
       "      <td>...</td>\n",
       "      <td>...</td>\n",
       "      <td>...</td>\n",
       "      <td>...</td>\n",
       "    </tr>\n",
       "    <tr>\n",
       "      <th>986</th>\n",
       "      <td>764-44-8999</td>\n",
       "      <td>B</td>\n",
       "      <td>Mandalay</td>\n",
       "      <td>Normal</td>\n",
       "      <td>Female</td>\n",
       "      <td>Health and beauty</td>\n",
       "      <td>14.76</td>\n",
       "      <td>2</td>\n",
       "      <td>1.4760</td>\n",
       "      <td>30.9960</td>\n",
       "      <td>2/18/2019</td>\n",
       "      <td>14:42</td>\n",
       "      <td>Ewallet</td>\n",
       "      <td>29.52</td>\n",
       "      <td>4.761905</td>\n",
       "      <td>1.4760</td>\n",
       "      <td>4.3</td>\n",
       "    </tr>\n",
       "    <tr>\n",
       "      <th>988</th>\n",
       "      <td>267-62-7380</td>\n",
       "      <td>C</td>\n",
       "      <td>Naypyitaw</td>\n",
       "      <td>Member</td>\n",
       "      <td>Male</td>\n",
       "      <td>Electronic accessories</td>\n",
       "      <td>82.34</td>\n",
       "      <td>10</td>\n",
       "      <td>41.1700</td>\n",
       "      <td>864.5700</td>\n",
       "      <td>3/29/2019</td>\n",
       "      <td>19:12</td>\n",
       "      <td>Ewallet</td>\n",
       "      <td>823.40</td>\n",
       "      <td>4.761905</td>\n",
       "      <td>41.1700</td>\n",
       "      <td>4.3</td>\n",
       "    </tr>\n",
       "    <tr>\n",
       "      <th>990</th>\n",
       "      <td>886-18-2897</td>\n",
       "      <td>A</td>\n",
       "      <td>Yangon</td>\n",
       "      <td>Normal</td>\n",
       "      <td>Female</td>\n",
       "      <td>Food and beverages</td>\n",
       "      <td>56.56</td>\n",
       "      <td>5</td>\n",
       "      <td>14.1400</td>\n",
       "      <td>296.9400</td>\n",
       "      <td>3/22/2019</td>\n",
       "      <td>19:06</td>\n",
       "      <td>Credit card</td>\n",
       "      <td>282.80</td>\n",
       "      <td>4.761905</td>\n",
       "      <td>14.1400</td>\n",
       "      <td>4.5</td>\n",
       "    </tr>\n",
       "    <tr>\n",
       "      <th>996</th>\n",
       "      <td>303-96-2227</td>\n",
       "      <td>B</td>\n",
       "      <td>Mandalay</td>\n",
       "      <td>Normal</td>\n",
       "      <td>Female</td>\n",
       "      <td>Home and lifestyle</td>\n",
       "      <td>97.38</td>\n",
       "      <td>10</td>\n",
       "      <td>48.6900</td>\n",
       "      <td>1022.4900</td>\n",
       "      <td>3/2/2019</td>\n",
       "      <td>17:16</td>\n",
       "      <td>Ewallet</td>\n",
       "      <td>973.80</td>\n",
       "      <td>4.761905</td>\n",
       "      <td>48.6900</td>\n",
       "      <td>4.4</td>\n",
       "    </tr>\n",
       "    <tr>\n",
       "      <th>998</th>\n",
       "      <td>347-56-2442</td>\n",
       "      <td>A</td>\n",
       "      <td>Yangon</td>\n",
       "      <td>Normal</td>\n",
       "      <td>Male</td>\n",
       "      <td>Home and lifestyle</td>\n",
       "      <td>65.82</td>\n",
       "      <td>1</td>\n",
       "      <td>3.2910</td>\n",
       "      <td>69.1110</td>\n",
       "      <td>2/22/2019</td>\n",
       "      <td>15:33</td>\n",
       "      <td>Cash</td>\n",
       "      <td>65.82</td>\n",
       "      <td>4.761905</td>\n",
       "      <td>3.2910</td>\n",
       "      <td>4.1</td>\n",
       "    </tr>\n",
       "  </tbody>\n",
       "</table>\n",
       "<p>174 rows × 17 columns</p>\n",
       "</div>"
      ],
      "text/plain": [
       "      Invoice ID Branch       City Customer type  Gender  \\\n",
       "5    699-14-3026      C  Naypyitaw        Normal    Male   \n",
       "10   351-62-0822      B   Mandalay        Member  Female   \n",
       "15   299-46-1805      B   Mandalay        Member  Female   \n",
       "16   656-95-9349      A     Yangon        Member  Female   \n",
       "19   319-50-3348      B   Mandalay        Normal  Female   \n",
       "..           ...    ...        ...           ...     ...   \n",
       "986  764-44-8999      B   Mandalay        Normal  Female   \n",
       "988  267-62-7380      C  Naypyitaw        Member    Male   \n",
       "990  886-18-2897      A     Yangon        Normal  Female   \n",
       "996  303-96-2227      B   Mandalay        Normal  Female   \n",
       "998  347-56-2442      A     Yangon        Normal    Male   \n",
       "\n",
       "               Product line  Unit price  Quantity   Tax 5%      Total  \\\n",
       "5    Electronic accessories       85.39         7  29.8865   627.6165   \n",
       "10      Fashion accessories       14.48         4   2.8960    60.8160   \n",
       "15        Sports and travel       93.72         6  28.1160   590.4360   \n",
       "16        Health and beauty       68.93         7  24.1255   506.6355   \n",
       "19       Home and lifestyle       40.30         2   4.0300    84.6300   \n",
       "..                      ...         ...       ...      ...        ...   \n",
       "986       Health and beauty       14.76         2   1.4760    30.9960   \n",
       "988  Electronic accessories       82.34        10  41.1700   864.5700   \n",
       "990      Food and beverages       56.56         5  14.1400   296.9400   \n",
       "996      Home and lifestyle       97.38        10  48.6900  1022.4900   \n",
       "998      Home and lifestyle       65.82         1   3.2910    69.1110   \n",
       "\n",
       "          Date   Time      Payment    cogs  gross margin percentage  \\\n",
       "5    3/25/2019  18:30      Ewallet  597.73                 4.761905   \n",
       "10    2/6/2019  18:07      Ewallet   57.92                 4.761905   \n",
       "15   1/15/2019  16:19         Cash  562.32                 4.761905   \n",
       "16   3/11/2019  11:03  Credit card  482.51                 4.761905   \n",
       "19   3/11/2019  15:30      Ewallet   80.60                 4.761905   \n",
       "..         ...    ...          ...     ...                      ...   \n",
       "986  2/18/2019  14:42      Ewallet   29.52                 4.761905   \n",
       "988  3/29/2019  19:12      Ewallet  823.40                 4.761905   \n",
       "990  3/22/2019  19:06  Credit card  282.80                 4.761905   \n",
       "996   3/2/2019  17:16      Ewallet  973.80                 4.761905   \n",
       "998  2/22/2019  15:33         Cash   65.82                 4.761905   \n",
       "\n",
       "     gross income  Rating  \n",
       "5         29.8865     4.1  \n",
       "10         2.8960     4.5  \n",
       "15        28.1160     4.5  \n",
       "16        24.1255     4.6  \n",
       "19         4.0300     4.4  \n",
       "..            ...     ...  \n",
       "986        1.4760     4.3  \n",
       "988       41.1700     4.3  \n",
       "990       14.1400     4.5  \n",
       "996       48.6900     4.4  \n",
       "998        3.2910     4.1  \n",
       "\n",
       "[174 rows x 17 columns]"
      ]
     },
     "execution_count": 26,
     "metadata": {},
     "output_type": "execute_result"
    }
   ],
   "source": [
    "invoices_with_rating_bellow_avg.groupby('Date').size()\n",
    "invoices_with_rating_bellow_avg"
   ]
  },
  {
   "cell_type": "code",
   "execution_count": 27,
   "id": "b929793c",
   "metadata": {
    "ExecuteTime": {
     "end_time": "2024-09-16T13:27:02.534817Z",
     "start_time": "2024-09-16T13:27:02.489782Z"
    }
   },
   "outputs": [
    {
     "data": {
      "text/plain": [
       "Product line\n",
       "Electronic accessories    4.0\n",
       "Fashion accessories       4.0\n",
       "Food and beverages        4.0\n",
       "Health and beauty         4.0\n",
       "Home and lifestyle        4.1\n",
       "Sports and travel         4.0\n",
       "Name: Rating, dtype: float64"
      ]
     },
     "execution_count": 27,
     "metadata": {},
     "output_type": "execute_result"
    }
   ],
   "source": [
    "# low rating per product\n",
    "data.groupby('Product line')['Rating'].min()"
   ]
  },
  {
   "cell_type": "code",
   "execution_count": 28,
   "id": "7ca42666",
   "metadata": {
    "ExecuteTime": {
     "end_time": "2024-09-16T13:27:02.666444Z",
     "start_time": "2024-09-16T13:27:02.619569Z"
    }
   },
   "outputs": [
    {
     "data": {
      "text/plain": [
       "28"
      ]
     },
     "execution_count": 28,
     "metadata": {},
     "output_type": "execute_result"
    }
   ],
   "source": [
    "# No_of_min_ratings\n",
    "data[(data['Rating'] == 4.00) | (data['Rating'] == 4.1)]['Rating'].count()"
   ]
  },
  {
   "cell_type": "code",
   "execution_count": 29,
   "id": "eae3079b",
   "metadata": {
    "ExecuteTime": {
     "end_time": "2024-09-16T13:27:02.717323Z",
     "start_time": "2024-09-16T13:27:02.684403Z"
    }
   },
   "outputs": [
    {
     "name": "stdout",
     "output_type": "stream",
     "text": [
      "percentage_of 4 & 4.1 rating_to_totalRatings=  2.8 %\n"
     ]
    }
   ],
   "source": [
    "No_of_min_ratings=data[(data['Rating'] == 4.00) | (data['Rating'] == 4.1)]['Rating'].count()\n",
    "percentage_of_min_rating_to_totalRatings=(No_of_min_ratings/len(data))*100\n",
    "print(\"percentage_of 4 & 4.1 rating_to_totalRatings= \",f'{percentage_of_min_rating_to_totalRatings:.1f}','%')"
   ]
  },
  {
   "cell_type": "markdown",
   "id": "84b6566c",
   "metadata": {},
   "source": [
    "### Analyze Low Ratings by Date"
   ]
  },
  {
   "cell_type": "code",
   "execution_count": 30,
   "id": "b8f4d6a4",
   "metadata": {
    "ExecuteTime": {
     "end_time": "2024-09-16T13:27:02.842822Z",
     "start_time": "2024-09-16T13:27:02.737254Z"
    }
   },
   "outputs": [
    {
     "data": {
      "text/html": [
       "<div>\n",
       "<style scoped>\n",
       "    .dataframe tbody tr th:only-of-type {\n",
       "        vertical-align: middle;\n",
       "    }\n",
       "\n",
       "    .dataframe tbody tr th {\n",
       "        vertical-align: top;\n",
       "    }\n",
       "\n",
       "    .dataframe thead th {\n",
       "        text-align: right;\n",
       "    }\n",
       "</style>\n",
       "<table border=\"1\" class=\"dataframe\">\n",
       "  <thead>\n",
       "    <tr style=\"text-align: right;\">\n",
       "      <th></th>\n",
       "      <th>Date</th>\n",
       "      <th>Branch</th>\n",
       "    </tr>\n",
       "  </thead>\n",
       "  <tbody>\n",
       "    <tr>\n",
       "      <th>5</th>\n",
       "      <td>3/25/2019</td>\n",
       "      <td>C</td>\n",
       "    </tr>\n",
       "    <tr>\n",
       "      <th>47</th>\n",
       "      <td>2/6/2019</td>\n",
       "      <td>B</td>\n",
       "    </tr>\n",
       "    <tr>\n",
       "      <th>72</th>\n",
       "      <td>3/5/2019</td>\n",
       "      <td>B</td>\n",
       "    </tr>\n",
       "    <tr>\n",
       "      <th>85</th>\n",
       "      <td>3/5/2019</td>\n",
       "      <td>C</td>\n",
       "    </tr>\n",
       "    <tr>\n",
       "      <th>97</th>\n",
       "      <td>2/9/2019</td>\n",
       "      <td>C</td>\n",
       "    </tr>\n",
       "    <tr>\n",
       "      <th>100</th>\n",
       "      <td>3/26/2019</td>\n",
       "      <td>C</td>\n",
       "    </tr>\n",
       "    <tr>\n",
       "      <th>119</th>\n",
       "      <td>1/20/2019</td>\n",
       "      <td>B</td>\n",
       "    </tr>\n",
       "    <tr>\n",
       "      <th>226</th>\n",
       "      <td>1/26/2019</td>\n",
       "      <td>B</td>\n",
       "    </tr>\n",
       "    <tr>\n",
       "      <th>235</th>\n",
       "      <td>1/20/2019</td>\n",
       "      <td>A</td>\n",
       "    </tr>\n",
       "    <tr>\n",
       "      <th>307</th>\n",
       "      <td>2/17/2019</td>\n",
       "      <td>A</td>\n",
       "    </tr>\n",
       "    <tr>\n",
       "      <th>328</th>\n",
       "      <td>1/25/2019</td>\n",
       "      <td>B</td>\n",
       "    </tr>\n",
       "    <tr>\n",
       "      <th>379</th>\n",
       "      <td>1/30/2019</td>\n",
       "      <td>B</td>\n",
       "    </tr>\n",
       "    <tr>\n",
       "      <th>407</th>\n",
       "      <td>1/4/2019</td>\n",
       "      <td>B</td>\n",
       "    </tr>\n",
       "    <tr>\n",
       "      <th>569</th>\n",
       "      <td>3/2/2019</td>\n",
       "      <td>C</td>\n",
       "    </tr>\n",
       "    <tr>\n",
       "      <th>618</th>\n",
       "      <td>1/23/2019</td>\n",
       "      <td>A</td>\n",
       "    </tr>\n",
       "    <tr>\n",
       "      <th>643</th>\n",
       "      <td>3/30/2019</td>\n",
       "      <td>C</td>\n",
       "    </tr>\n",
       "    <tr>\n",
       "      <th>669</th>\n",
       "      <td>1/17/2019</td>\n",
       "      <td>B</td>\n",
       "    </tr>\n",
       "    <tr>\n",
       "      <th>672</th>\n",
       "      <td>3/2/2019</td>\n",
       "      <td>B</td>\n",
       "    </tr>\n",
       "    <tr>\n",
       "      <th>750</th>\n",
       "      <td>3/14/2019</td>\n",
       "      <td>B</td>\n",
       "    </tr>\n",
       "    <tr>\n",
       "      <th>782</th>\n",
       "      <td>2/5/2019</td>\n",
       "      <td>A</td>\n",
       "    </tr>\n",
       "    <tr>\n",
       "      <th>784</th>\n",
       "      <td>2/24/2019</td>\n",
       "      <td>C</td>\n",
       "    </tr>\n",
       "    <tr>\n",
       "      <th>790</th>\n",
       "      <td>3/3/2019</td>\n",
       "      <td>A</td>\n",
       "    </tr>\n",
       "    <tr>\n",
       "      <th>821</th>\n",
       "      <td>2/24/2019</td>\n",
       "      <td>A</td>\n",
       "    </tr>\n",
       "    <tr>\n",
       "      <th>832</th>\n",
       "      <td>1/9/2019</td>\n",
       "      <td>B</td>\n",
       "    </tr>\n",
       "    <tr>\n",
       "      <th>848</th>\n",
       "      <td>1/8/2019</td>\n",
       "      <td>C</td>\n",
       "    </tr>\n",
       "    <tr>\n",
       "      <th>876</th>\n",
       "      <td>2/12/2019</td>\n",
       "      <td>C</td>\n",
       "    </tr>\n",
       "    <tr>\n",
       "      <th>915</th>\n",
       "      <td>2/2/2019</td>\n",
       "      <td>C</td>\n",
       "    </tr>\n",
       "    <tr>\n",
       "      <th>998</th>\n",
       "      <td>2/22/2019</td>\n",
       "      <td>A</td>\n",
       "    </tr>\n",
       "  </tbody>\n",
       "</table>\n",
       "</div>"
      ],
      "text/plain": [
       "          Date Branch\n",
       "5    3/25/2019      C\n",
       "47    2/6/2019      B\n",
       "72    3/5/2019      B\n",
       "85    3/5/2019      C\n",
       "97    2/9/2019      C\n",
       "100  3/26/2019      C\n",
       "119  1/20/2019      B\n",
       "226  1/26/2019      B\n",
       "235  1/20/2019      A\n",
       "307  2/17/2019      A\n",
       "328  1/25/2019      B\n",
       "379  1/30/2019      B\n",
       "407   1/4/2019      B\n",
       "569   3/2/2019      C\n",
       "618  1/23/2019      A\n",
       "643  3/30/2019      C\n",
       "669  1/17/2019      B\n",
       "672   3/2/2019      B\n",
       "750  3/14/2019      B\n",
       "782   2/5/2019      A\n",
       "784  2/24/2019      C\n",
       "790   3/3/2019      A\n",
       "821  2/24/2019      A\n",
       "832   1/9/2019      B\n",
       "848   1/8/2019      C\n",
       "876  2/12/2019      C\n",
       "915   2/2/2019      C\n",
       "998  2/22/2019      A"
      ]
     },
     "execution_count": 30,
     "metadata": {},
     "output_type": "execute_result"
    }
   ],
   "source": [
    "# days with the lowest rating \n",
    "days_with_the_lowest_rating= data[(data['Rating'] == 4.00) | (data['Rating'] == 4.1)][['Date', 'Branch']]\n",
    "days_with_the_lowest_rating"
   ]
  },
  {
   "cell_type": "markdown",
   "id": "96f33d00",
   "metadata": {},
   "source": [
    "### Analyze Low Ratings by Branch and Product\n"
   ]
  },
  {
   "cell_type": "code",
   "execution_count": 31,
   "id": "ad8ca945",
   "metadata": {
    "ExecuteTime": {
     "end_time": "2024-09-16T13:27:02.919158Z",
     "start_time": "2024-09-16T13:27:02.861761Z"
    }
   },
   "outputs": [
    {
     "data": {
      "text/plain": [
       "Branch\n",
       "B    11\n",
       "C    10\n",
       "A     7\n",
       "Name: count, dtype: int64"
      ]
     },
     "execution_count": 31,
     "metadata": {},
     "output_type": "execute_result"
    }
   ],
   "source": [
    "# count rating of 4.0 & 4.1 per branch\n",
    "days_with_the_lowest_rating['Branch'].value_counts() "
   ]
  },
  {
   "cell_type": "code",
   "execution_count": 32,
   "id": "aaa14cae",
   "metadata": {
    "ExecuteTime": {
     "end_time": "2024-09-16T13:27:03.001136Z",
     "start_time": "2024-09-16T13:27:02.933641Z"
    }
   },
   "outputs": [
    {
     "data": {
      "text/plain": [
       "Product line          \n",
       "Fashion accessories       6\n",
       "Food and beverages        5\n",
       "Sports and travel         5\n",
       "Electronic accessories    4\n",
       "Health and beauty         4\n",
       "Home and lifestyle        4\n",
       "Name: count, dtype: int64"
      ]
     },
     "execution_count": 32,
     "metadata": {},
     "output_type": "execute_result"
    }
   ],
   "source": [
    "# number of minimum rating per product\n",
    "data[(data['Rating'] == 4.00) | (data['Rating'] == 4.1)][['Product line']].value_counts() "
   ]
  },
  {
   "cell_type": "markdown",
   "id": "cda0a38d",
   "metadata": {},
   "source": [
    "### Analyze Low Ratings by Gender"
   ]
  },
  {
   "cell_type": "code",
   "execution_count": 33,
   "id": "9b4144c5",
   "metadata": {
    "ExecuteTime": {
     "end_time": "2024-09-16T13:27:03.067119Z",
     "start_time": "2024-09-16T13:27:03.024066Z"
    }
   },
   "outputs": [
    {
     "data": {
      "text/plain": [
       "Gender\n",
       "Female    501\n",
       "Male      499\n",
       "Name: count, dtype: int64"
      ]
     },
     "execution_count": 33,
     "metadata": {},
     "output_type": "execute_result"
    }
   ],
   "source": [
    "# distribution of males and females\n",
    "data['Gender'].value_counts()"
   ]
  },
  {
   "cell_type": "code",
   "execution_count": 34,
   "id": "8202b3a9",
   "metadata": {
    "ExecuteTime": {
     "end_time": "2024-09-16T13:27:03.134148Z",
     "start_time": "2024-09-16T13:27:03.082068Z"
    }
   },
   "outputs": [
    {
     "data": {
      "text/plain": [
       "Gender\n",
       "Female    19\n",
       "Male       9\n",
       "Name: count, dtype: int64"
      ]
     },
     "execution_count": 34,
     "metadata": {},
     "output_type": "execute_result"
    }
   ],
   "source": [
    "data[(data['Rating'] == 4.00) | (data['Rating'] == 4.1)]['Gender'].value_counts()\n",
    "# counting the lowest rating per gender"
   ]
  },
  {
   "cell_type": "code",
   "execution_count": 35,
   "id": "6e0d4b90",
   "metadata": {
    "ExecuteTime": {
     "end_time": "2024-09-16T13:27:03.208927Z",
     "start_time": "2024-09-16T13:27:03.151079Z"
    }
   },
   "outputs": [
    {
     "data": {
      "text/plain": [
       "Product line\n",
       "Food and beverages        5\n",
       "Sports and travel         5\n",
       "Fashion accessories       5\n",
       "Health and beauty         4\n",
       "Electronic accessories    3\n",
       "Home and lifestyle        2\n",
       "Name: count, dtype: int64"
      ]
     },
     "execution_count": 35,
     "metadata": {},
     "output_type": "execute_result"
    }
   ],
   "source": [
    "# Identify which product line females give the lowest rating to\n",
    "data[( (data['Rating'] == 4.00) | (data['Rating'] == 4.1) & (data['Gender']=='Female') ) ]['Product line'].value_counts()"
   ]
  },
  {
   "cell_type": "code",
   "execution_count": 36,
   "id": "12c3bbaa",
   "metadata": {
    "ExecuteTime": {
     "end_time": "2024-09-16T13:27:03.271943Z",
     "start_time": "2024-09-16T13:27:03.223885Z"
    }
   },
   "outputs": [
    {
     "data": {
      "text/plain": [
       "47     15:47\n",
       "72     18:17\n",
       "618    11:22\n",
       "643    19:26\n",
       "848    19:38\n",
       "Name: Time, dtype: object"
      ]
     },
     "execution_count": 36,
     "metadata": {},
     "output_type": "execute_result"
    }
   ],
   "source": [
    "# time at which food took min rating \n",
    "# answer= mostly at night\n",
    "data[((data['Rating'] == 4.00) | (data['Rating'] == 4.1))&(data['Product line']=='Food and beverages')]['Time']"
   ]
  },
  {
   "cell_type": "markdown",
   "id": "005edade",
   "metadata": {},
   "source": [
    "##  Gender and Purchase Quantity Analysis\n",
    "- Analyze total quantity purchased by each gender.\n",
    "- Analyze product line purchases by gender.\n"
   ]
  },
  {
   "cell_type": "code",
   "execution_count": 37,
   "id": "05bdcf5e",
   "metadata": {
    "ExecuteTime": {
     "end_time": "2024-09-16T13:27:03.327800Z",
     "start_time": "2024-09-16T13:27:03.287904Z"
    }
   },
   "outputs": [
    {
     "data": {
      "text/plain": [
       "Gender\n",
       "Female    2869\n",
       "Male      2641\n",
       "Name: Quantity, dtype: int64"
      ]
     },
     "execution_count": 37,
     "metadata": {},
     "output_type": "execute_result"
    }
   ],
   "source": [
    "data.groupby('Gender')[\"Quantity\"].sum()\n",
    "# Find which gender buys more quantity overall"
   ]
  },
  {
   "cell_type": "code",
   "execution_count": 38,
   "id": "74d572f8",
   "metadata": {
    "ExecuteTime": {
     "end_time": "2024-09-16T13:27:03.392709Z",
     "start_time": "2024-09-16T13:27:03.340752Z"
    }
   },
   "outputs": [
    {
     "data": {
      "text/plain": [
       "Product line            Gender\n",
       "Electronic accessories  Female    488\n",
       "                        Male      483\n",
       "Fashion accessories     Female    530\n",
       "                        Male      372\n",
       "Food and beverages      Female    514\n",
       "                        Male      438\n",
       "Health and beauty       Female    343\n",
       "                        Male      511\n",
       "Home and lifestyle      Female    498\n",
       "                        Male      413\n",
       "Sports and travel       Female    496\n",
       "                        Male      424\n",
       "Name: Quantity, dtype: int64"
      ]
     },
     "execution_count": 38,
     "metadata": {},
     "output_type": "execute_result"
    }
   ],
   "source": [
    "# the total quantity purchased by each gender for each product line\n",
    "data.groupby(['Product line', 'Gender'])[\"Quantity\"].sum()"
   ]
  },
  {
   "cell_type": "markdown",
   "id": "da13d934",
   "metadata": {
    "ExecuteTime": {
     "end_time": "2024-09-16T13:22:32.096515Z",
     "start_time": "2024-09-16T13:22:32.069035Z"
    }
   },
   "source": [
    "##  Plot Gender Distribution Over Time\n",
    "- Plot the count of gender over different days using a bar plot.\n"
   ]
  },
  {
   "cell_type": "code",
   "execution_count": 39,
   "id": "621f76e0",
   "metadata": {
    "ExecuteTime": {
     "end_time": "2024-09-16T13:27:14.053124Z",
     "start_time": "2024-09-16T13:27:03.408670Z"
    }
   },
   "outputs": [
    {
     "data": {
      "image/png": "[encoded data removed]",
      "text/plain": [
       "<Figure size 1200x600 with 1 Axes>"
      ]
     },
     "metadata": {},
     "output_type": "display_data"
    }
   ],
   "source": [
    "\n",
    "# Group by 'Date' and 'Gender', and count the occurrences\n",
    "gender_date_counts = data.groupby(['Date', 'Gender']).size().unstack(fill_value=0)\n",
    "\n",
    "# Melt the DataFrame for easier plotting with seaborn\n",
    "gender_date_counts_melted = gender_date_counts.reset_index().melt(id_vars='Date', var_name='Gender', value_name='Count')\n",
    "\n",
    "# Convert 'Date' to datetime if it's not already\n",
    "gender_date_counts_melted['Date'] = pd.to_datetime(gender_date_counts_melted['Date'])\n",
    "\n",
    "# Sort the DataFrame by date\n",
    "gender_date_counts_melted = gender_date_counts_melted.sort_values('Date')\n",
    "\n",
    "# Plot the data\n",
    "plt.figure(figsize=(6, 3))\n",
    "ax = sns.barplot(x='Date', y='Count', hue='Gender', data=gender_date_counts_melted)\n",
    "\n",
    "# Customize x-axis ticks\n",
    "all_dates = gender_date_counts_melted['Date'].unique()\n",
    "start_date = all_dates[0]\n",
    "end_date = datetime(2019, 3, 9)  # Use the last date you specified\n",
    "date_range = pd.date_range(start=start_date, end=end_date, periods=7)\n",
    "\n",
    "ax.set_xticks(np.linspace(0, len(all_dates) - 1, 7))\n",
    "ax.set_xticklabels([date.strftime('%Y-%m-%d') for date in date_range], rotation=45, ha='right')\n",
    "\n",
    "plt.title('Gender Count Over Time')\n",
    "plt.xlabel('Date')\n",
    "plt.ylabel('Count')\n",
    "plt.legend(title='Gender')\n",
    "plt.grid(True)\n",
    "plt.tight_layout()\n",
    "plt.show()"
   ]
  },
  {
   "cell_type": "markdown",
   "id": "d254671b",
   "metadata": {
    "ExecuteTime": {
     "end_time": "2024-09-16T13:25:59.283012Z",
     "start_time": "2024-09-16T13:25:59.257272Z"
    }
   },
   "source": [
    "## Correlation Heatmap\n",
    "- Visualize the correlation between numerical features, excluding the 'gross margin percentage' column.\n"
   ]
  },
  {
   "cell_type": "code",
   "execution_count": 40,
   "id": "a759f70f",
   "metadata": {
    "ExecuteTime": {
     "end_time": "2024-09-16T13:27:16.664353Z",
     "start_time": "2024-09-16T13:27:14.066620Z"
    }
   },
   "outputs": [
    {
     "data": {
      "image/png": "[encoded data removed]",
      "text/plain": [
       "<Figure size 1000x800 with 2 Axes>"
      ]
     },
     "metadata": {},
     "output_type": "display_data"
    }
   ],
   "source": [
    "\n",
    "# Select only numerical columns\n",
    "numerical_data = data.select_dtypes(include=['float64', 'int64'])\n",
    "\n",
    "# Drop the 'gross margin percentage' column\n",
    "numerical_data = numerical_data.drop(columns=['gross margin percentage'])\n",
    "\n",
    "# Calculate the correlation matrix\n",
    "correlation_matrix = numerical_data.corr()\n",
    "\n",
    "# Create the heatmap\n",
    "plt.figure(figsize=(10, 8))  # Adjust the size as needed\n",
    "sns.heatmap(correlation_matrix, annot=True, cmap='coolwarm', fmt='.2f', linewidths=0.5)\n",
    "\n",
    "# Show the heatmap\n",
    "plt.title('Correlation Heatmap of Numerical Features (Excluding \"gross margin percentage\")')\n",
    "plt.show()\n"
   ]
  },
  {
   "cell_type": "code",
   "execution_count": 41,
   "id": "083acb37",
   "metadata": {
    "ExecuteTime": {
     "end_time": "2024-09-16T13:27:16.717136Z",
     "start_time": "2024-09-16T13:27:16.676232Z"
    }
   },
   "outputs": [
    {
     "data": {
      "text/plain": [
       "0       1/5/2019\n",
       "1       3/8/2019\n",
       "2       3/3/2019\n",
       "3      1/27/2019\n",
       "4       2/8/2019\n",
       "         ...    \n",
       "995    1/29/2019\n",
       "996     3/2/2019\n",
       "997     2/9/2019\n",
       "998    2/22/2019\n",
       "999    2/18/2019\n",
       "Name: Date, Length: 1000, dtype: object"
      ]
     },
     "execution_count": 41,
     "metadata": {},
     "output_type": "execute_result"
    }
   ],
   "source": [
    "data.Date"
   ]
  },
  {
   "cell_type": "code",
   "execution_count": 42,
   "id": "9f82ff48",
   "metadata": {
    "ExecuteTime": {
     "end_time": "2024-09-16T13:27:16.779647Z",
     "start_time": "2024-09-16T13:27:16.731085Z"
    }
   },
   "outputs": [],
   "source": [
    "# Define the holidays\n",
    "holidays=data[(data['Date'] == '1/4/2019') | (data['Date'] == '1/11/2019') | (data['Date'] == '3/2/2019')]"
   ]
  },
  {
   "cell_type": "code",
   "execution_count": 43,
   "id": "357435a9",
   "metadata": {
    "ExecuteTime": {
     "end_time": "2024-09-16T13:27:16.837487Z",
     "start_time": "2024-09-16T13:27:16.800590Z"
    }
   },
   "outputs": [
    {
     "data": {
      "text/plain": [
       "32"
      ]
     },
     "execution_count": 43,
     "metadata": {},
     "output_type": "execute_result"
    }
   ],
   "source": [
    "len(holidays)  #no of invoices in holidays"
   ]
  },
  {
   "cell_type": "code",
   "execution_count": 44,
   "id": "ca98f2be",
   "metadata": {
    "ExecuteTime": {
     "end_time": "2024-09-16T13:27:16.920266Z",
     "start_time": "2024-09-16T13:27:16.856437Z"
    }
   },
   "outputs": [
    {
     "data": {
      "text/plain": [
       "Date\n",
       "1/11/2019    100.7125\n",
       "1/4/2019      77.3185\n",
       "3/2/2019     312.3955\n",
       "Name: gross income, dtype: float64"
      ]
     },
     "execution_count": 44,
     "metadata": {},
     "output_type": "execute_result"
    }
   ],
   "source": [
    "holidays.groupby('Date')['gross income'].sum()"
   ]
  },
  {
   "cell_type": "code",
   "execution_count": 45,
   "id": "1a6d5c07",
   "metadata": {
    "ExecuteTime": {
     "end_time": "2024-09-16T13:27:16.985021Z",
     "start_time": "2024-09-16T13:27:16.939217Z"
    }
   },
   "outputs": [
    {
     "name": "stdout",
     "output_type": "stream",
     "text": [
      "The product line that generates the most revenue is 'Food and beverages' with a total revenue of 2673.564.\n"
     ]
    }
   ],
   "source": [
    "# Group by 'Product line' and sum the 'Total' revenue for each product line\n",
    "revenue_by_product_line = data.groupby('Product line')['gross income'].sum()\n",
    "\n",
    "# Find the product line with the highest revenue\n",
    "top_product_line = revenue_by_product_line.idxmax()\n",
    "top_revenue = revenue_by_product_line.max()\n",
    "\n",
    "# # Display the result\n",
    "print(f\"The product line that generates the most revenue is '{top_product_line}' with a total revenue of {top_revenue}.\")\n"
   ]
  },
  {
   "cell_type": "code",
   "execution_count": 46,
   "id": "30d4f3a6",
   "metadata": {
    "ExecuteTime": {
     "end_time": "2024-09-16T13:27:17.061808Z",
     "start_time": "2024-09-16T13:27:17.004957Z"
    }
   },
   "outputs": [
    {
     "data": {
      "text/plain": [
       "Product line\n",
       "Electronic accessories    53.551588\n",
       "Fashion accessories       57.153652\n",
       "Food and beverages        56.008851\n",
       "Health and beauty         54.854474\n",
       "Home and lifestyle        55.316937\n",
       "Sports and travel         56.993253\n",
       "Name: Unit price, dtype: float64"
      ]
     },
     "execution_count": 46,
     "metadata": {},
     "output_type": "execute_result"
    }
   ],
   "source": [
    "data.groupby('Product line')['Unit price'].mean()"
   ]
  },
  {
   "cell_type": "code",
   "execution_count": null,
   "id": "b57e9925",
   "metadata": {},
   "outputs": [],
   "source": []
  }
 ],
 "metadata": {
  "kernelspec": {
   "display_name": "Python 3 (ipykernel)",
   "language": "python",
   "name": "python3"
  },
  "language_info": {
   "codemirror_mode": {
    "name": "ipython",
    "version": 3
   },
   "file_extension": ".py",
   "mimetype": "text/x-python",
   "name": "python",
   "nbconvert_exporter": "python",
   "pygments_lexer": "ipython3",
   "version": "3.11.5"
  }
 },
 "nbformat": 4,
 "nbformat_minor": 5
}
